{
 "cells": [
  {
   "cell_type": "markdown",
   "id": "4c6759fa-a80d-4b64-8b7c-07d178c3ff4b",
   "metadata": {},
   "source": [
    "# Lec 7-9: Array Programming Paradigm: The Basic\n",
    "\n",
    "\n",
    "Jianwen Zhu <jzhu@eecg.toronto.edu>\n",
    "v2.0, 2024-09\n"
   ]
  },
  {
   "cell_type": "markdown",
   "id": "e8214aa0-c426-4c80-9b70-07d259bae023",
   "metadata": {},
   "source": [
    "## Agenda\n",
    "------\n",
    "\n",
    "* Array Programming Paradigm\n",
    "* NumPy\n",
    "* Array as collection\n",
    "* Elementwise operations\n",
    "* Reduction\n"
   ]
  },
  {
   "cell_type": "markdown",
   "id": "285cb7ff-4185-4744-b269-1c6c4dc68ad5",
   "metadata": {},
   "source": [
    "## Array Programming Language\n",
    "--------------------------\n",
    "\n",
    "* Native sequences are nice\n",
    " - But very general: element can be anything\n",
    " - Slow for large scale data and numerical computation\n",
    " \n",
    "* Array Programming Paradigm\n",
    "  - Everything is an array\n",
    "  - No loops! (we already saw list comprehension)\n",
    "  \n",
    "* APL (A Programming Language)\n",
    "  - Kenneth E. Iverson: Candian Computer Scientist\n",
    "  - Turing Speech: \"Notations as a Tool of Thoughts\"\n",
    "     (one of the most inspiring talks in CS)\n",
    "  - Influenced spreadsheets, functional programming, and\n",
    "    computer math packages\n",
    "\n",
    "* Vector machine\n",
    "  - Vector Machine\n",
    "  - Each register is an array\n",
    "  - Instructions operate on arrays\n",
    "  - Seymour Cray: Father of Supercomputer\n",
    "\n",
    "* Modern Incarnation\n",
    "    - Tensor\n",
    "    - From Descrete Objects to Tensor\n",
    "\n",
    "* Question: How to\n",
    "    - Combine performance of C\n",
    "    - Expressive Power of APL\n",
    "    - Python as a language substrate\n",
    "\n",
    "* NumPy: Multidimensional arrays!\n",
    "    - Vector / Matrix\n",
    "    - Photos\n",
    "    - Tensors\n",
    "\n"
   ]
  },
  {
   "cell_type": "markdown",
   "id": "9b1c6548-d652-41b8-ac2e-e20d965240c3",
   "metadata": {},
   "source": [
    "## NumPy Package\n",
    "-------------\n",
    "\n",
    "### Installing from Source (Really Ancient Way)\n",
    "* Retrieving source\n",
    "\n",
    "~~~\n",
    ">wget url\n",
    "~~~\n",
    "\n",
    "* Unpack\n",
    "\n",
    "~~~\n",
    ">tar xvfz foo.tar.gz\n",
    "~~~\n",
    "\n",
    "* Installation\n",
    " - setup.py\n",
    "\n",
    "~~~\n",
    ">python setup.py build\n",
    ">python setup.py install --user\n",
    "~~~\n",
    "\n",
    "* Ready to import"
   ]
  },
  {
   "cell_type": "markdown",
   "id": "333dcbd8-22e7-4943-93d3-76c8c50fe5df",
   "metadata": {},
   "source": [
    "### Installing Using a Package Manager\n",
    "~~~\n",
    "%pip install numpy\n",
    "~~~\n",
    "\n",
    "Below code is a bit more cumbersome than usual. This is because\n",
    "we want to install within the Jupyter Environment (the kernel\n",
    "is running from a virtual environment, and we want to make\n",
    "sure we are using the same python as the Jupter kernel.)"
   ]
  },
  {
   "cell_type": "code",
   "execution_count": null,
   "id": "26440506-8556-4951-a391-cea634d7225e",
   "metadata": {
    "tags": []
   },
   "outputs": [],
   "source": [
    "import sys\n",
    "!{sys.executable} -m pip install numpy"
   ]
  },
  {
   "cell_type": "code",
   "execution_count": null,
   "id": "d7652ed7-65f3-4af8-ba21-862cb0a1513d",
   "metadata": {
    "tags": []
   },
   "outputs": [],
   "source": [
    "import numpy as np"
   ]
  },
  {
   "cell_type": "markdown",
   "id": "c2607697-9d6f-4e4d-94ca-2db55cee300a",
   "metadata": {},
   "source": [
    "## NumPy Type: ndarray\n",
    "-------------------\n",
    "\n",
    "* Rank\n",
    "    - Number of dimensions\n",
    " \n",
    "* Axis\n",
    "    - Each dimension\n",
    "\n",
    "* Shape\n",
    "    - tuple of integers indicating the size of the array in each dimension\n",
    "\n",
    "* accessors\n",
    "    - a.ndim: rank\n",
    "    - a.shape: shape\n",
    "    - a.size: total number of elements (prod of all elements of shape)\n",
    "    - a.itemsize: number of bytes for each elements\n",
    "    - a.dtype: data type of each element\n",
    "    - a.data: actual data (do not use directly)"
   ]
  },
  {
   "cell_type": "code",
   "execution_count": null,
   "id": "cab255bc-f65d-46d0-aec4-4f574a52ee6d",
   "metadata": {
    "tags": []
   },
   "outputs": [],
   "source": [
    "from numpy  import *\n",
    "a = arange(10).reshape(2,5)\n",
    "a"
   ]
  },
  {
   "cell_type": "code",
   "execution_count": null,
   "id": "8cc9334e-6e60-482a-a080-40f14eab23ff",
   "metadata": {
    "tags": []
   },
   "outputs": [],
   "source": [
    "a.shape"
   ]
  },
  {
   "cell_type": "code",
   "execution_count": null,
   "id": "d1c306ee-37d0-4a5d-b29e-6597c1f26172",
   "metadata": {
    "tags": []
   },
   "outputs": [],
   "source": [
    "a.ndim"
   ]
  },
  {
   "cell_type": "code",
   "execution_count": null,
   "id": "0625a5bb-2d23-4591-be26-95c9e7f4e0de",
   "metadata": {
    "tags": []
   },
   "outputs": [],
   "source": [
    "a.dtype"
   ]
  },
  {
   "cell_type": "code",
   "execution_count": null,
   "id": "56cab14d-430d-4f1c-b3a8-301f505e82c5",
   "metadata": {
    "tags": []
   },
   "outputs": [],
   "source": [
    "a.itemsize"
   ]
  },
  {
   "cell_type": "code",
   "execution_count": null,
   "id": "2fa14fa1-f5e6-45c3-9cb4-bd62ad398340",
   "metadata": {
    "tags": []
   },
   "outputs": [],
   "source": [
    "a.size"
   ]
  },
  {
   "cell_type": "markdown",
   "id": "2fe991d5-646d-488e-b3f9-e6cb420e9aa6",
   "metadata": {},
   "source": [
    "## array Constructor function\n",
    "\n",
    "### Convert from sequences\n"
   ]
  },
  {
   "cell_type": "code",
   "execution_count": null,
   "id": "a81c5019-cd88-4120-a35b-985a4cb5f557",
   "metadata": {
    "tags": []
   },
   "outputs": [],
   "source": [
    "import numpy as np\n",
    "a = np.array( [2,3,4] )"
   ]
  },
  {
   "cell_type": "code",
   "execution_count": null,
   "id": "791292f3-1e21-4e94-8aaa-76619bd4f2d7",
   "metadata": {
    "tags": []
   },
   "outputs": [],
   "source": [
    "a"
   ]
  },
  {
   "cell_type": "code",
   "execution_count": null,
   "id": "d60bc460-b7d7-42b2-bc7f-8f9ccbf19ce0",
   "metadata": {
    "tags": []
   },
   "outputs": [],
   "source": [
    "a.dtype"
   ]
  },
  {
   "cell_type": "code",
   "execution_count": null,
   "id": "f00c7418-e66a-4b0f-b306-6bffd011c8e9",
   "metadata": {
    "tags": []
   },
   "outputs": [],
   "source": [
    "b = np.array([1.2, 3.5, 5.1])"
   ]
  },
  {
   "cell_type": "code",
   "execution_count": null,
   "id": "2e15d48d-19e2-4c5c-9c54-7f65aca8bab4",
   "metadata": {
    "tags": []
   },
   "outputs": [],
   "source": [
    "b.dtype"
   ]
  },
  {
   "cell_type": "markdown",
   "id": "a1d82cab-9ed2-4a57-9a6a-f36cb7d7a54b",
   "metadata": {},
   "source": [
    "### Or sequences of sequences ..."
   ]
  },
  {
   "cell_type": "code",
   "execution_count": null,
   "id": "4eb4f201-5b0b-4d28-a963-a5c5d3c29f37",
   "metadata": {
    "tags": []
   },
   "outputs": [],
   "source": [
    "b = np.array( [ (1.5,2,3), (4,5,6) ] )\n",
    "b"
   ]
  },
  {
   "cell_type": "markdown",
   "id": "17d943a2-12ce-49bb-a4e7-2bed4ade9521",
   "metadata": {},
   "source": [
    "### zeros/ones/empty construction"
   ]
  },
  {
   "cell_type": "code",
   "execution_count": null,
   "id": "5ed2de91-375e-4a58-aa94-0cdf59e75f8e",
   "metadata": {
    "tags": []
   },
   "outputs": [],
   "source": [
    "np.zeros( (3,4) )"
   ]
  },
  {
   "cell_type": "code",
   "execution_count": null,
   "id": "e9f0d31a-f679-478d-a25c-9f7003ce873a",
   "metadata": {
    "tags": []
   },
   "outputs": [],
   "source": [
    "np.ones( (2,3,4), dtype=int16 ) "
   ]
  },
  {
   "cell_type": "code",
   "execution_count": null,
   "id": "d71e10c4-4d13-43a0-ae45-cc5199571f8e",
   "metadata": {
    "tags": []
   },
   "outputs": [],
   "source": [
    "np.empty( (2,3) )"
   ]
  },
  {
   "cell_type": "markdown",
   "id": "b37617a6-5751-49a9-98fb-712d17dc3666",
   "metadata": {},
   "source": [
    "### arange\n",
    "\n",
    "recall range function ?\n"
   ]
  },
  {
   "cell_type": "code",
   "execution_count": null,
   "id": "b6d73f07-8d52-4df9-89d0-960a1f8753c0",
   "metadata": {
    "tags": []
   },
   "outputs": [],
   "source": [
    "np.arange( 10, 30, 5 )"
   ]
  },
  {
   "cell_type": "code",
   "execution_count": null,
   "id": "baaca81a-067d-40a3-8d42-571b78b0612e",
   "metadata": {
    "tags": []
   },
   "outputs": [],
   "source": [
    "np.arange( 0, 2, 0.3 )                 # it accepts float arguments"
   ]
  },
  {
   "cell_type": "markdown",
   "id": "a576e825-8a05-45a1-b909-1532b999216e",
   "metadata": {},
   "source": [
    "### linspace\n",
    "\n",
    "It is NOT always convenient to use arange as it cannot control the number of elements directly. But we have alternatives that can give predictable number of elements."
   ]
  },
  {
   "cell_type": "code",
   "execution_count": null,
   "id": "b20f2999-2e31-4695-8392-205f2e434268",
   "metadata": {
    "tags": []
   },
   "outputs": [],
   "source": [
    "np.linspace( 0, 2, 9 ) "
   ]
  },
  {
   "cell_type": "code",
   "execution_count": null,
   "id": "d460eee4-f13e-43d2-a842-d4b05cf33f73",
   "metadata": {
    "tags": []
   },
   "outputs": [],
   "source": [
    "pi = 3.14\n",
    "x = np.linspace( 0, 2*pi, 100 )"
   ]
  },
  {
   "cell_type": "code",
   "execution_count": null,
   "id": "e0ba62f5-d24e-4c32-a931-132ce8ccacac",
   "metadata": {
    "tags": []
   },
   "outputs": [],
   "source": [
    "f = np.sin(x)\n",
    "f"
   ]
  },
  {
   "cell_type": "code",
   "execution_count": null,
   "id": "00dbc832-b4e3-42c3-80a2-7e62d2f25d95",
   "metadata": {
    "tags": []
   },
   "outputs": [],
   "source": [
    "import sys\n",
    "!{sys.executable} -m pip install matplotlib"
   ]
  },
  {
   "cell_type": "code",
   "execution_count": null,
   "id": "e500ab7d-4ee9-4f15-b5cb-985960ca82e9",
   "metadata": {
    "tags": []
   },
   "outputs": [],
   "source": [
    "import matplotlib.pyplot as plt\n",
    "\n",
    "plt.plot( x, f )"
   ]
  },
  {
   "cell_type": "markdown",
   "id": "5b1c90f7-1163-4074-ad4e-3d4493890dda",
   "metadata": {},
   "source": [
    "### random\n"
   ]
  },
  {
   "cell_type": "code",
   "execution_count": null,
   "id": "0b59006b-cb44-4db7-a2e9-f42adeeb2be6",
   "metadata": {
    "tags": []
   },
   "outputs": [],
   "source": [
    "np.random.random((2,3))"
   ]
  },
  {
   "cell_type": "markdown",
   "id": "3d2c7491-d8b0-40ff-b196-dfe8f586e229",
   "metadata": {},
   "source": [
    "## Changing Shape\n",
    "\n",
    "* Ravel"
   ]
  },
  {
   "cell_type": "code",
   "execution_count": null,
   "id": "0de5b1c4-c5bb-46cd-a466-d3a474e08ead",
   "metadata": {
    "tags": []
   },
   "outputs": [],
   "source": [
    "a = np.array([[ 7.,  5.,  9.,  3.],\n",
    "       [ 7.,  2.,  7.,  8.],\n",
    "       [ 6.,  8.,  3.,  2.]])\n",
    "a.ravel() # flatten the array"
   ]
  },
  {
   "cell_type": "code",
   "execution_count": null,
   "id": "e190f07b-f98a-4de6-b7f1-8bc71b7ef977",
   "metadata": {
    "tags": []
   },
   "outputs": [],
   "source": [
    "a.shape = (6, 2)\n",
    "a"
   ]
  },
  {
   "cell_type": "code",
   "execution_count": null,
   "id": "926767bb-28aa-432f-b3bd-30fb7cf59ad9",
   "metadata": {
    "tags": []
   },
   "outputs": [],
   "source": [
    "b = a.transpose()\n",
    "b"
   ]
  },
  {
   "cell_type": "markdown",
   "id": "bd69e4e2-aa1f-4b6b-868a-421a9a9e5242",
   "metadata": {},
   "source": [
    "## resize\n",
    "   - modify the array in place"
   ]
  },
  {
   "cell_type": "code",
   "execution_count": null,
   "id": "424b17b2-2268-42f8-a6c8-efd1be231eef",
   "metadata": {
    "tags": []
   },
   "outputs": [],
   "source": [
    "a.resize((2,6))"
   ]
  },
  {
   "cell_type": "markdown",
   "id": "04f2c578-5425-4d36-b623-8801741a3830",
   "metadata": {},
   "source": [
    "## reshape\n",
    "  - returns another array with changed shape\n",
    "  - -1 means the dimension is automatically calculated according to other\n",
    "    dimensions"
   ]
  },
  {
   "cell_type": "code",
   "execution_count": null,
   "id": "160ceacb-7d91-4fab-8593-84c65ed40cba",
   "metadata": {
    "tags": []
   },
   "outputs": [],
   "source": [
    "a.reshape(3,-1)"
   ]
  },
  {
   "cell_type": "markdown",
   "id": "8a560f38-3194-407a-998b-04d03b429843",
   "metadata": {},
   "source": [
    "## Enumeration\n",
    "* Hierarchical"
   ]
  },
  {
   "cell_type": "code",
   "execution_count": null,
   "id": "3afb7c80-750c-40d7-95a9-65964f13edd9",
   "metadata": {
    "tags": []
   },
   "outputs": [],
   "source": [
    "b = np.array( [[ 1, 2, 3], [4, 5, 6]] )\n",
    "for element in b : \n",
    "    print( element )"
   ]
  },
  {
   "cell_type": "markdown",
   "id": "4128cab1-8603-4cee-9259-3ed08f9dde22",
   "metadata": {},
   "source": [
    "* Flat"
   ]
  },
  {
   "cell_type": "code",
   "execution_count": null,
   "id": "a5982646-c554-46f6-9922-3ef4593ce560",
   "metadata": {
    "tags": []
   },
   "outputs": [],
   "source": [
    "for element in b.flat :\n",
    "    print( element )"
   ]
  },
  {
   "cell_type": "markdown",
   "id": "03ac4dd3-745c-4147-b307-7534644e2442",
   "metadata": {},
   "source": [
    "## Indexing and Slicing"
   ]
  },
  {
   "cell_type": "markdown",
   "id": "6067a2ae-5ea0-445f-879f-28ba5adfe62d",
   "metadata": {},
   "source": [
    "### Just like list"
   ]
  },
  {
   "cell_type": "code",
   "execution_count": 2,
   "id": "1dd656dd-c21e-43ea-b807-694b09dd18c7",
   "metadata": {
    "tags": []
   },
   "outputs": [
    {
     "data": {
      "text/plain": [
       "8"
      ]
     },
     "execution_count": 2,
     "metadata": {},
     "output_type": "execute_result"
    }
   ],
   "source": [
    "import numpy as np\n",
    "\n",
    "a = np.array([  0,   1,   8,  27,  64, 125, 216, 343, 512, 729])\n",
    "a[2]"
   ]
  },
  {
   "cell_type": "code",
   "execution_count": 3,
   "id": "8ef1c294-3c97-425b-a6cd-e42855f6783c",
   "metadata": {
    "tags": []
   },
   "outputs": [
    {
     "data": {
      "text/plain": [
       "array([ 8, 27, 64])"
      ]
     },
     "execution_count": 3,
     "metadata": {},
     "output_type": "execute_result"
    }
   ],
   "source": [
    "a[2:5]"
   ]
  },
  {
   "cell_type": "code",
   "execution_count": 4,
   "id": "652ca00c-b83a-46c1-815c-4214bcf8257b",
   "metadata": {
    "tags": []
   },
   "outputs": [
    {
     "data": {
      "text/plain": [
       "array([ 0,  8, 64])"
      ]
     },
     "execution_count": 4,
     "metadata": {},
     "output_type": "execute_result"
    }
   ],
   "source": [
    "a[:6:2]"
   ]
  },
  {
   "cell_type": "code",
   "execution_count": 5,
   "id": "6b623df2-d780-4694-b28d-5fcccfbeaef0",
   "metadata": {
    "tags": []
   },
   "outputs": [
    {
     "data": {
      "text/plain": [
       "array([-1000,     1, -1000,    27, -1000,   125,   216,   343,   512,\n",
       "         729])"
      ]
     },
     "execution_count": 5,
     "metadata": {},
     "output_type": "execute_result"
    }
   ],
   "source": [
    "a[:6:2] = -1000   \n",
    "a"
   ]
  },
  {
   "cell_type": "code",
   "execution_count": 6,
   "id": "ae9edb91-b2d8-4927-a952-fdf3a1cd2435",
   "metadata": {
    "tags": []
   },
   "outputs": [
    {
     "data": {
      "text/plain": [
       "array([  729,   512,   343,   216,   125, -1000,    27, -1000,     1,\n",
       "       -1000])"
      ]
     },
     "execution_count": 6,
     "metadata": {},
     "output_type": "execute_result"
    }
   ],
   "source": [
    "a[::-1]     "
   ]
  },
  {
   "cell_type": "markdown",
   "id": "c6b42d03-427d-44bc-9d19-a99738548030",
   "metadata": {},
   "source": [
    "### Tuple Indexed (NOT Like List)"
   ]
  },
  {
   "cell_type": "code",
   "execution_count": 7,
   "id": "f621c8f3-269a-468d-a7fc-09d593c18c7e",
   "metadata": {},
   "outputs": [],
   "source": [
    "b = np.array([[ 0,  1,  2,  3],\n",
    "       [10, 11, 12, 13],\n",
    "       [20, 21, 22, 23],\n",
    "       [30, 31, 32, 33],\n",
    "       [40, 41, 42, 43]])"
   ]
  },
  {
   "cell_type": "code",
   "execution_count": 8,
   "id": "b0b1f500-e46d-48f5-926e-27368c608d5d",
   "metadata": {},
   "outputs": [
    {
     "data": {
      "text/plain": [
       "23"
      ]
     },
     "execution_count": 8,
     "metadata": {},
     "output_type": "execute_result"
    }
   ],
   "source": [
    "b[2,3]"
   ]
  },
  {
   "cell_type": "code",
   "execution_count": 9,
   "id": "3bc21675-f072-4a5d-98a7-e82c0d6434dc",
   "metadata": {},
   "outputs": [
    {
     "data": {
      "text/plain": [
       "array([ 1, 11, 21, 31, 41])"
      ]
     },
     "execution_count": 9,
     "metadata": {},
     "output_type": "execute_result"
    }
   ],
   "source": [
    "b[:,1]     "
   ]
  },
  {
   "cell_type": "markdown",
   "id": "c6c7528e-3958-42d7-8786-0c5af633ee18",
   "metadata": {},
   "source": [
    "We are asking for ALL rows, and column 1, do shape analysis"
   ]
  },
  {
   "cell_type": "markdown",
   "id": "660df6aa-ab75-4a25-971d-0a7c01e84637",
   "metadata": {},
   "source": [
    "Note that we have dimension reduction, just like a regular index. But we dont have to!"
   ]
  },
  {
   "cell_type": "code",
   "execution_count": 10,
   "id": "945c4e3e-ec92-4b71-a53b-0f3d8f143c90",
   "metadata": {},
   "outputs": [
    {
     "data": {
      "text/plain": [
       "array([[10, 11, 12, 13],\n",
       "       [20, 21, 22, 23]])"
      ]
     },
     "execution_count": 10,
     "metadata": {},
     "output_type": "execute_result"
    }
   ],
   "source": [
    " b[1:3,:]  # row1/2, all columns"
   ]
  },
  {
   "cell_type": "markdown",
   "id": "c390cb57-b284-4fba-96e3-69d19da90c49",
   "metadata": {},
   "source": [
    "### Missing Indices"
   ]
  },
  {
   "cell_type": "code",
   "execution_count": 11,
   "id": "400b9e19-f4d8-4fe3-a688-74f9e9bce13f",
   "metadata": {},
   "outputs": [
    {
     "data": {
      "text/plain": [
       "array([40, 41, 42, 43])"
      ]
     },
     "execution_count": 11,
     "metadata": {},
     "output_type": "execute_result"
    }
   ],
   "source": [
    "b[-1]            # the last row, do shape analysis again"
   ]
  },
  {
   "cell_type": "markdown",
   "id": "5fd6d965-0ae4-47b0-a04c-39cb212da173",
   "metadata": {},
   "source": [
    "* Dots (...)\n",
    "  - Means: as many as :\n",
    "  - x[1,2,...] is equivalent to x[1,2,:,:,:],\n",
    "  - x[...,3] to x[:,:,:,:,3] and\n",
    "  - x[4,...,5,:] to x[4,:,:,5,:].\n",
    "  - Key of understanding: Shape Analysis in your brain (just like type analysis)"
   ]
  },
  {
   "cell_type": "code",
   "execution_count": 12,
   "id": "ddb4aef8-409e-45a5-bc63-d8c18b7b14c6",
   "metadata": {},
   "outputs": [],
   "source": [
    "c = np.array( [ [[  0,  1,  2],               # a 3d array (two stacked 2d arrays)\n",
    "           [ 10, 12, 13]],\n",
    "           [[100,101,102],\n",
    "           [110,112,113]] ] )"
   ]
  },
  {
   "cell_type": "code",
   "execution_count": 13,
   "id": "51371b50-9bd5-4923-b635-1c384eb6e9be",
   "metadata": {},
   "outputs": [
    {
     "data": {
      "text/plain": [
       "(2, 2, 3)"
      ]
     },
     "execution_count": 13,
     "metadata": {},
     "output_type": "execute_result"
    }
   ],
   "source": [
    "c.shape"
   ]
  },
  {
   "cell_type": "code",
   "execution_count": 18,
   "id": "e70e9fb0-b24d-46a6-b777-6688441f99b1",
   "metadata": {
    "tags": []
   },
   "outputs": [
    {
     "data": {
      "text/plain": [
       "array([[  0,   1,   2],\n",
       "       [100, 101, 102]])"
      ]
     },
     "execution_count": 18,
     "metadata": {},
     "output_type": "execute_result"
    }
   ],
   "source": [
    "c[:,0,:]"
   ]
  },
  {
   "cell_type": "code",
   "execution_count": 19,
   "id": "c3225e72-0523-47f4-815e-3fce2c958f61",
   "metadata": {},
   "outputs": [
    {
     "data": {
      "text/plain": [
       "array([[100, 101, 102],\n",
       "       [110, 112, 113]])"
      ]
     },
     "execution_count": 19,
     "metadata": {},
     "output_type": "execute_result"
    }
   ],
   "source": [
    "c[1,...]   # matrix 1 (full)"
   ]
  },
  {
   "cell_type": "code",
   "execution_count": 15,
   "id": "19be2d3f-26bc-4f9a-a7a8-b540af1b882a",
   "metadata": {},
   "outputs": [
    {
     "data": {
      "text/plain": [
       "array([[  2,  13],\n",
       "       [102, 113]])"
      ]
     },
     "execution_count": 15,
     "metadata": {},
     "output_type": "execute_result"
    }
   ],
   "source": [
    "c[...,2]  # taking colum 2 of all"
   ]
  },
  {
   "cell_type": "markdown",
   "id": "ab07f622-dfe4-431c-8d85-8f3ecd38cd0f",
   "metadata": {},
   "source": [
    "## Elementwise Functions\n",
    "\n",
    "* So far similar to list\n",
    "  - Seems just a convenience\n",
    "  - Maybe more efficient in storage\n",
    "  - But why bother?\n",
    "\n",
    "  - compare\n",
    "\n",
    "~~~\n",
    "for i in range(len(a)) :\n",
    "  c[i] = a[i] + b[i]\n",
    "~~~\n",
    "\n",
    "~~~\n",
    "[ x + y for x, y in zip(a,b)]\n",
    "~~~\n",
    "\n",
    "But How about simply this!\n",
    "~~~\n",
    "a + b\n",
    "~~~\n"
   ]
  },
  {
   "cell_type": "markdown",
   "id": "c89f8ea4-612d-48b9-a636-c548b3f251df",
   "metadata": {},
   "source": [
    "* array op array\n",
    "  - vector operation just like scalar operation\n",
    "  - no loops\n",
    "  - not even list comprehension\n"
   ]
  },
  {
   "cell_type": "code",
   "execution_count": 20,
   "id": "06d8d498-6ced-4d53-893f-2ddc589bf36d",
   "metadata": {},
   "outputs": [
    {
     "name": "stdout",
     "output_type": "stream",
     "text": [
      "[0 1 2 3]\n"
     ]
    },
    {
     "data": {
      "text/plain": [
       "array([20, 29, 38, 47])"
      ]
     },
     "execution_count": 20,
     "metadata": {},
     "output_type": "execute_result"
    }
   ],
   "source": [
    "a = np.array( [20,30,40,50] )\n",
    "b = np.arange( 4 )\n",
    "print( b )\n",
    "c = a-b\n",
    "c"
   ]
  },
  {
   "cell_type": "markdown",
   "id": "65b21933-ae4a-4918-878b-4b0af48dac9d",
   "metadata": {},
   "source": [
    "* array op scalar"
   ]
  },
  {
   "cell_type": "code",
   "execution_count": 21,
   "id": "72e7764e-b652-489a-b27e-6843fe046b01",
   "metadata": {},
   "outputs": [
    {
     "data": {
      "text/plain": [
       "array([0, 1, 4, 9])"
      ]
     },
     "execution_count": 21,
     "metadata": {},
     "output_type": "execute_result"
    }
   ],
   "source": [
    "b ** 2"
   ]
  },
  {
   "cell_type": "code",
   "execution_count": 22,
   "id": "d388d018-8b60-456f-960b-bc3f1609f4bc",
   "metadata": {},
   "outputs": [
    {
     "data": {
      "text/plain": [
       "array([ 9.12945251, -9.88031624,  7.4511316 , -2.62374854])"
      ]
     },
     "execution_count": 22,
     "metadata": {},
     "output_type": "execute_result"
    }
   ],
   "source": [
    "10 * np.sin(a)"
   ]
  },
  {
   "cell_type": "code",
   "execution_count": 23,
   "id": "1cb7d723-298d-46eb-87e5-cb07f7a1c51e",
   "metadata": {},
   "outputs": [
    {
     "name": "stdout",
     "output_type": "stream",
     "text": [
      "[20 30 40 50]\n"
     ]
    },
    {
     "data": {
      "text/plain": [
       "array([ True,  True, False, False])"
      ]
     },
     "execution_count": 23,
     "metadata": {},
     "output_type": "execute_result"
    }
   ],
   "source": [
    "print(a) \n",
    "a < 35"
   ]
  },
  {
   "cell_type": "markdown",
   "id": "fa38a83e-7ef2-4391-9f36-36e71c80ff62",
   "metadata": {},
   "source": [
    "## Univeral Functions\n",
    "\n",
    "Recall \"operators\" like \"+\" are just plain, but \"polymorphic\" functions.\n",
    "We can have more such functions, but with names. \n",
    "\n",
    "* Unary\n",
    "    - arccos/arccosh/arcsin/arcsinh/arctan/arctanh\n",
    "    - cos/cosh/exp/log/log10/sin/sinh/sqrt/tan/tanh\n",
    "    - ...\n",
    "    \n",
    "* Binary\n",
    "    - add/subtract/multiply/divide\n",
    "    - remainder\n",
    "    - power\n",
    "    - ...\n",
    "\n",
    " - Comparison\n",
    "   - greater/less\n",
    "   - ...\n",
    "   "
   ]
  },
  {
   "cell_type": "markdown",
   "id": "193146cd-bf35-4a5a-a200-1c0e727469e4",
   "metadata": {},
   "source": [
    "## More Indexing and Slicing\n",
    "\n",
    "* We saw indexing by\n",
    "  - integers\n",
    "  - slices\n",
    "  - tuple of integers/slices\n",
    "\n",
    "* Array of integers!\n",
    "  - Gather operation"
   ]
  },
  {
   "cell_type": "code",
   "execution_count": 24,
   "id": "84cb485f-88d0-413f-b1ec-266fcb91a927",
   "metadata": {},
   "outputs": [
    {
     "name": "stdout",
     "output_type": "stream",
     "text": [
      "[  0   1   4   9  16  25  36  49  64  81 100 121]\n",
      "[1 1 3 8 5]\n"
     ]
    }
   ],
   "source": [
    "a = np.arange(12)**2                       # the first 12 square numbers\n",
    "i = np.array( [ 1,1,3,8,5 ] )              # an array of indices\n",
    "print( a )\n",
    "print( i )"
   ]
  },
  {
   "cell_type": "code",
   "execution_count": 25,
   "id": "88a7f841-7da9-4069-bd2b-1f47e9ece558",
   "metadata": {},
   "outputs": [
    {
     "data": {
      "text/plain": [
       "array([ 1,  1,  9, 64, 25])"
      ]
     },
     "execution_count": 25,
     "metadata": {},
     "output_type": "execute_result"
    }
   ],
   "source": [
    "a[i]                                       "
   ]
  },
  {
   "cell_type": "code",
   "execution_count": 27,
   "id": "e565c65c-0917-4f61-a635-26a5ace82dde",
   "metadata": {},
   "outputs": [],
   "source": [
    "palette = np.array( [ [0,0,0],                # black\n",
    "                  [255,0,0],               # red\n",
    "                    [0,255,0],              # green\n",
    "                    [0,0,255],              # blue\n",
    "                    [255,255,255] ] )       # white\n"
   ]
  },
  {
   "cell_type": "code",
   "execution_count": 28,
   "id": "94650bd5-bbad-40db-bbd5-eb6ad12ad0bf",
   "metadata": {},
   "outputs": [],
   "source": [
    "image = np.array( [ [ 0, 1, 2, 0 ],           # 2x4 image with color index entry\n",
    "                 [ 0, 3, 4, 0 ]  ] )\n"
   ]
  },
  {
   "cell_type": "code",
   "execution_count": 29,
   "id": "0c8aef08-0078-4ba7-b656-11ea411fc22e",
   "metadata": {},
   "outputs": [
    {
     "data": {
      "text/plain": [
       "array([[[  0,   0,   0],\n",
       "        [255,   0,   0],\n",
       "        [  0, 255,   0],\n",
       "        [  0,   0,   0]],\n",
       "\n",
       "       [[  0,   0,   0],\n",
       "        [  0,   0, 255],\n",
       "        [255, 255, 255],\n",
       "        [  0,   0,   0]]])"
      ]
     },
     "execution_count": 29,
     "metadata": {},
     "output_type": "execute_result"
    }
   ],
   "source": [
    " palette[image]"
   ]
  },
  {
   "cell_type": "markdown",
   "id": "f2dae221-d096-4804-a4d9-2c7238a907c0",
   "metadata": {},
   "source": [
    "* Scatter operation\n",
    "  "
   ]
  },
  {
   "cell_type": "code",
   "execution_count": 30,
   "id": "92fec86b-f016-4814-9933-a844d5f3edb0",
   "metadata": {},
   "outputs": [
    {
     "data": {
      "text/plain": [
       "array([0, 1, 2, 3, 4])"
      ]
     },
     "execution_count": 30,
     "metadata": {},
     "output_type": "execute_result"
    }
   ],
   "source": [
    "a = np.arange(5)\n",
    "a"
   ]
  },
  {
   "cell_type": "code",
   "execution_count": 31,
   "id": "171f1075-3813-4005-90e9-3db57ab14859",
   "metadata": {},
   "outputs": [
    {
     "data": {
      "text/plain": [
       "array([0, 0, 2, 0, 0])"
      ]
     },
     "execution_count": 31,
     "metadata": {},
     "output_type": "execute_result"
    }
   ],
   "source": [
    "a[[1,3,4]] = 0\n",
    "a"
   ]
  },
  {
   "cell_type": "code",
   "execution_count": 32,
   "id": "b4737b69-e5f4-4c07-bee0-eeea2c35829b",
   "metadata": {},
   "outputs": [
    {
     "data": {
      "text/plain": [
       "array([2, 1, 3, 3, 4])"
      ]
     },
     "execution_count": 32,
     "metadata": {},
     "output_type": "execute_result"
    }
   ],
   "source": [
    "a = np.arange(5)\n",
    "a[[0,0,2]]=[1,2,3]\n",
    "a"
   ]
  },
  {
   "cell_type": "markdown",
   "id": "82866ac9-eaa3-451a-a658-6111e9677d28",
   "metadata": {},
   "source": [
    "NOTE: For repeat entries, take the value of last one."
   ]
  },
  {
   "cell_type": "markdown",
   "id": "7f364e8f-bcba-4f6a-99a1-9e308e5e5072",
   "metadata": {},
   "source": [
    "## Array of Booleans (Pack)"
   ]
  },
  {
   "cell_type": "code",
   "execution_count": 33,
   "id": "2a31238a-34cf-4548-81e2-3022b875d174",
   "metadata": {},
   "outputs": [
    {
     "name": "stdout",
     "output_type": "stream",
     "text": [
      "[[ 0  1  2  3]\n",
      " [ 4  5  6  7]\n",
      " [ 8  9 10 11]]\n"
     ]
    },
    {
     "data": {
      "text/plain": [
       "array([[False, False, False, False],\n",
       "       [False,  True,  True,  True],\n",
       "       [ True,  True,  True,  True]])"
      ]
     },
     "execution_count": 33,
     "metadata": {},
     "output_type": "execute_result"
    }
   ],
   "source": [
    "import numpy as np\n",
    "\n",
    "a = np.arange(12).reshape(3,4)\n",
    "print( a )\n",
    "b = a > 4\n",
    "b                                          # b is a boolean with a's shape\n"
   ]
  },
  {
   "cell_type": "code",
   "execution_count": 34,
   "id": "de97d8ba-b92d-4cf9-a429-8eb7d917b220",
   "metadata": {},
   "outputs": [
    {
     "data": {
      "text/plain": [
       "array([ 5,  6,  7,  8,  9, 10, 11])"
      ]
     },
     "execution_count": 34,
     "metadata": {},
     "output_type": "execute_result"
    }
   ],
   "source": [
    "a[b]   # 1d array with the selected elements"
   ]
  },
  {
   "cell_type": "code",
   "execution_count": 37,
   "id": "fb968314-b804-43f1-911f-909689c582ad",
   "metadata": {},
   "outputs": [],
   "source": [
    "a[b] = 0     # All elements of 'a' higher than 4 become 0"
   ]
  },
  {
   "cell_type": "code",
   "execution_count": 38,
   "id": "4134316b-8453-4bbe-ad59-1ede3fb927df",
   "metadata": {},
   "outputs": [
    {
     "data": {
      "text/plain": [
       "array([[0, 1, 2, 3],\n",
       "       [4, 0, 0, 0],\n",
       "       [0, 0, 0, 0]])"
      ]
     },
     "execution_count": 38,
     "metadata": {},
     "output_type": "execute_result"
    }
   ],
   "source": [
    "a"
   ]
  },
  {
   "cell_type": "markdown",
   "id": "aa040455-6d7b-4f25-a096-dc5c45ff186e",
   "metadata": {},
   "source": [
    "Question: We have seen how elementwise operation help eliminate\n",
    "loops in code -- what procedural construct does pack help eliminate? "
   ]
  },
  {
   "cell_type": "markdown",
   "id": "5c7a85b1-8db0-429f-b92d-b67e77231372",
   "metadata": {},
   "source": [
    "## Fractal Example\n",
    "\n",
    "*  Mandelbrot set\n",
    "    - Given a complex number z, make a copy of the number (call it c),\n",
    "      and then perform the following operation recursively:\n",
    "\n",
    "~~~      \n",
    "    z = z**2 + c\n",
    "~~~\n",
    "\n",
    "* May go to infinity - Refinement:\n",
    "\n",
    "  - Any point z which, after N (let's say 100) iterations, has a magnitude not exceeding a threshold (let's say 10), belongs to the Mandelbrot set.\n",
    "\n",
    "  - The iteration that make z exceeding 10, defines the \"escape speed\"\n",
    "\n",
    "* Visualization: We know that a complex number is a point in a two-demensinoal space, so it maps well to an image.\n",
    "\n",
    "* Your challenge: Use as LITTLE control (imperative) statements as possible!\n"
   ]
  },
  {
   "cell_type": "markdown",
   "id": "334f883d-d73a-4711-9461-41ce4e82e4d1",
   "metadata": {},
   "source": [
    "* We have already seen how to construct a 1D axis"
   ]
  },
  {
   "cell_type": "code",
   "execution_count": null,
   "id": "ff91eb02-1fc3-438c-b6c6-e36f5c60f097",
   "metadata": {},
   "outputs": [],
   "source": [
    "import numpy as np\n",
    "print( np.linspace( 0, 1, num=5 ).dtype )"
   ]
  },
  {
   "cell_type": "code",
   "execution_count": null,
   "id": "eab78d30-8c25-47fd-b795-4b887e9f93da",
   "metadata": {},
   "outputs": [],
   "source": [
    "re = np.linspace( -2.0, 1, 1000 )\n",
    "im = np.linspace( -1.5, 1.5, 1000 )"
   ]
  },
  {
   "cell_type": "markdown",
   "id": "8d518a40-500d-462a-a6e3-a0bf5781e754",
   "metadata": {},
   "source": [
    "Let's construct an 2D grid"
   ]
  },
  {
   "cell_type": "code",
   "execution_count": null,
   "id": "22a3929f-2799-470e-889a-c5ac4690e5ea",
   "metadata": {},
   "outputs": [],
   "source": [
    "a, b = np.meshgrid( [1,2,3], [1,2] )\n",
    "print( a )\n",
    "print( b )"
   ]
  },
  {
   "cell_type": "markdown",
   "id": "fba9231c-657d-4453-9784-b72e0893eec6",
   "metadata": {},
   "source": [
    "Repeat the first argument by the size of the second argument;\n",
    "Repeat the second element by the size of the first argument, but rotated.\n",
    "They are basically the horizontal and vertical grid lines."
   ]
  },
  {
   "cell_type": "code",
   "execution_count": null,
   "id": "68222221-32fd-45d6-8c99-af8ec9fece98",
   "metadata": {},
   "outputs": [],
   "source": [
    " x, y = np.meshgrid(re, im)"
   ]
  },
  {
   "cell_type": "markdown",
   "id": "e5651e0f-87fa-4e87-babc-b0af3df13e81",
   "metadata": {},
   "source": [
    "* Complex grid: What is happening below: "
   ]
  },
  {
   "cell_type": "code",
   "execution_count": null,
   "id": "f0945054-186e-4414-89b1-022393c071ce",
   "metadata": {},
   "outputs": [],
   "source": [
    "z = x + 1j*y\n",
    "z.shape"
   ]
  },
  {
   "cell_type": "markdown",
   "id": "bdd6ff16-2c5e-400d-af62-368656792be5",
   "metadata": {
    "jp-MarkdownHeadingCollapsed": true
   },
   "source": [
    "This an ELEMENT-WISE operation applied on equal-shaped matrics. For every respective element in the matrix, we form a complex number. What have we done: We basically enumerated ALL complex points within a square range by a SINGLE expression!"
   ]
  },
  {
   "cell_type": "code",
   "execution_count": null,
   "id": "8b3cfe0d-55cc-413e-a454-ef49100bd53c",
   "metadata": {},
   "outputs": [],
   "source": [
    "a = np.array( [1, 2, 3] )\n",
    "b = a[:2]\n",
    "print( b )\n",
    "b[0] = 3         #numpy array is mutable\n",
    "print( b )"
   ]
  },
  {
   "cell_type": "code",
   "execution_count": null,
   "id": "f398ffd5-cced-4683-a2b1-55b9b72b110f",
   "metadata": {},
   "outputs": [],
   "source": [
    "print( a )"
   ]
  },
  {
   "cell_type": "markdown",
   "id": "c213e548-6677-4882-8184-6931dd4bb595",
   "metadata": {},
   "source": [
    "What happend? Changing value of b also changes value of a? \n",
    "\n",
    "This is because b is just a \"view\" of a (implementation choice\n",
    "by Numpy designer). To create an independent value, have to use\n",
    "the \"copy\" method. "
   ]
  },
  {
   "cell_type": "code",
   "execution_count": null,
   "id": "59280067-1d1c-4e00-b315-15b96ade3853",
   "metadata": {},
   "outputs": [],
   "source": [
    "b = a[:2].copy()\n",
    "b[0] = 3\n",
    "print( b )\n",
    "print( a )"
   ]
  },
  {
   "cell_type": "code",
   "execution_count": null,
   "id": "b044e494-8af1-4634-9b58-ac86f3bc8968",
   "metadata": {},
   "outputs": [],
   "source": [
    "b = a[:2].copy()\n",
    "b[0] = 3\n",
    "print( b )\n",
    "print( a )"
   ]
  },
  {
   "cell_type": "markdown",
   "id": "39ab051d-7759-4840-b1f1-5818d67fe43f",
   "metadata": {},
   "source": [
    "Now let's get back to Mendalbrot Set problem. "
   ]
  },
  {
   "cell_type": "code",
   "execution_count": null,
   "id": "9740721c-7cb4-4c05-91aa-2878d1005b14",
   "metadata": {},
   "outputs": [],
   "source": [
    "c = z.copy()\n",
    "for n in range( 100 ) :\n",
    "    print( \"Iteration %d\" % n )\n",
    "    z *= z\n",
    "    z += c"
   ]
  },
  {
   "cell_type": "markdown",
   "id": "4a2eead1-989a-45e1-8807-30ca35c76fb3",
   "metadata": {},
   "source": [
    "Seem all trival and familiar expressions, but remember z is a GRID of scalar complex numbers, and we are performing on each one of them! "
   ]
  },
  {
   "cell_type": "markdown",
   "id": "c67c8650-5444-4846-8f5e-9f54a9cedab9",
   "metadata": {},
   "source": [
    "NOTE: *= and += are *in place* operators, they are NOT euivalent to \n",
    "z = z * z, and z = z + c."
   ]
  },
  {
   "cell_type": "markdown",
   "id": "86e2f429-982e-4028-ae2d-893fafc91be1",
   "metadata": {},
   "source": [
    "Now we need to use the DEFINITION of Mandelbrot set, and visualize it using an image."
   ]
  },
  {
   "cell_type": "code",
   "execution_count": null,
   "id": "abbeeca6-a322-4800-a933-43b72be48605",
   "metadata": {},
   "outputs": [],
   "source": [
    "fractal = np.zeros(z.shape, dtype=np.uint8)"
   ]
  },
  {
   "cell_type": "code",
   "execution_count": null,
   "id": "1fcec4f4-99f1-48c0-b94e-b7813b451b8a",
   "metadata": {},
   "outputs": [],
   "source": [
    "import matplotlib.pyplot as plt\n",
    "\n",
    "plt.imshow(fractal, cmap='grey')\n",
    "plt.plot()"
   ]
  },
  {
   "cell_type": "markdown",
   "id": "29c07f6f-e968-44dd-8c3b-3bc1baa07566",
   "metadata": {},
   "source": [
    "This is just all dark, but it is OK as a pixel value is 0. Let's mark the points of Mendelbrot set white. Recall that for any point p in z which, after 100 iterations, has a magnitude (np.abs(p)) of greater than 10, belongs to the Mandelbrot set. Challenge you to get the image use ONE expression!"
   ]
  },
  {
   "cell_type": "code",
   "execution_count": null,
   "id": "c6c5b50a-1b66-47ea-9b14-9445c81ad7dc",
   "metadata": {},
   "outputs": [],
   "source": [
    "z = x + 1j*y\n",
    "c = z.copy()\n",
    "for n in range( 100 ) :\n",
    "    print( \"Iteration %d\" % n )\n",
    "    z *= z\n",
    "    z += c\n",
    "fractal[np.abs(z) <= 10] = 255"
   ]
  },
  {
   "cell_type": "code",
   "execution_count": null,
   "id": "2717b93b-87c9-4079-b8fd-0a27dfc06a8d",
   "metadata": {},
   "outputs": [],
   "source": [
    "import matplotlib.pyplot as plt\n",
    "\n",
    "plt.clf()\n",
    "plt.imshow(fractal, cmap='grey')\n",
    "plt.plot()"
   ]
  },
  {
   "cell_type": "markdown",
   "id": "8248ca31-6f44-4470-ade0-b080e7d732e0",
   "metadata": {},
   "source": [
    "Let's put them all together, and with fancier graphics: we want to use pixel color to indicate the \"escape speed\", in other words, how soon they \"escape\" the set,\n",
    "the earlier, the darker. We will also make the code slightly more general \n",
    "by making constants into \"hyper-parameters\" that can be changed for exploration."
   ]
  },
  {
   "cell_type": "code",
   "execution_count": null,
   "id": "b4b66bf9-84a4-476b-8667-6f57ee1925a8",
   "metadata": {},
   "outputs": [],
   "source": [
    "ITERATIONS = 100\n",
    "DENSITY = 1000 # warning: execution speed decreases with square of DENSITY\n",
    "\n",
    "x_min, x_max = -2, 1\n",
    "y_min, y_max = -1.5, 1.5\n",
    "\n",
    "x, y = np.meshgrid(np.linspace(x_min, x_max, DENSITY),\n",
    "                   np.linspace(y_min, y_max, DENSITY))\n",
    "\n",
    "c = x + 1j*y # complex grid\n",
    "z = c.copy()\n",
    "fractal = np.zeros(z.shape, dtype=np.uint8) + 255\n",
    "\n",
    "for n in range(ITERATIONS):\n",
    "    print( \"Iteration %d\" % n )\n",
    "\n",
    "    # --- Uncomment to see different sets ---\n",
    "\n",
    "    # Tricorn\n",
    "    #z = z.conj()\n",
    "\n",
    "    # Burning ship\n",
    "    # z = abs(z.real) + 1j*abs(z.imag)\n",
    "\n",
    "    # ---\n",
    "    # Leave the lines below in place\n",
    "    z *= z\n",
    "    z += c\n",
    "\n",
    "    # first time escape\n",
    "    mask = (fractal == 255) & (abs(z) > 10)\n",
    "    # assign with color/hot code\n",
    "    fractal[mask] = 254 * n / float(ITERATIONS)\n",
    "\n",
    "plt.imshow(np.log(fractal), cmap=plt.cm.hot,\n",
    "           extent=(x_min, x_max, y_min, y_max))\n",
    "plt.title('Mandelbrot Set')\n",
    "plt.xlabel('Re(z)')\n",
    "plt.ylabel('Im(z)')\n",
    "plt.show()"
   ]
  },
  {
   "cell_type": "markdown",
   "id": "5086f787-02a5-4eeb-93b3-d5e63cd0c8d2",
   "metadata": {},
   "source": [
    "Note we use different color map in imshow() function call. The color map basically turns pixel values into real RGB values (remember the palatte exampler earlier?). \n",
    "\n",
    "Also note that you can explore different variants of the Mandelbrot set by uncommenting some statements in the code. \n",
    "\n",
    "While the images are strickingly beautiful, it is more intriguring to see how the task is accomplished in a DIFFERENT language paradigm. "
   ]
  }
 ],
 "metadata": {
  "kernelspec": {
   "display_name": "Python 3 (ipykernel)",
   "language": "python",
   "name": "python3"
  },
  "language_info": {
   "codemirror_mode": {
    "name": "ipython",
    "version": 3
   },
   "file_extension": ".py",
   "mimetype": "text/x-python",
   "name": "python",
   "nbconvert_exporter": "python",
   "pygments_lexer": "ipython3",
   "version": "3.11.5"
  }
 },
 "nbformat": 4,
 "nbformat_minor": 5
}
